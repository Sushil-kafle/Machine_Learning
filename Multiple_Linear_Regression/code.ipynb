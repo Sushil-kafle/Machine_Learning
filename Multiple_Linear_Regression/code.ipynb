{
 "cells": [
  {
   "cell_type": "code",
   "execution_count": 51,
   "metadata": {},
   "outputs": [],
   "source": [
    "import pandas as pd\n",
    "from sklearn.datasets import load_diabetes\n",
    "import numpy as np\n"
   ]
  },
  {
   "cell_type": "code",
   "execution_count": 52,
   "metadata": {},
   "outputs": [],
   "source": [
    "x,y = load_diabetes(return_X_y=True)"
   ]
  },
  {
   "cell_type": "code",
   "execution_count": 53,
   "metadata": {},
   "outputs": [
    {
     "data": {
      "text/plain": [
       "((442, 10), (442,))"
      ]
     },
     "execution_count": 53,
     "metadata": {},
     "output_type": "execute_result"
    }
   ],
   "source": [
    "x.shape,y.shape"
   ]
  },
  {
   "cell_type": "code",
   "execution_count": 54,
   "metadata": {},
   "outputs": [],
   "source": [
    "from sklearn.model_selection import train_test_split"
   ]
  },
  {
   "cell_type": "code",
   "execution_count": 55,
   "metadata": {},
   "outputs": [],
   "source": [
    "x_train,x_test,y_train,y_test = train_test_split(x,y,random_state=20)"
   ]
  },
  {
   "cell_type": "markdown",
   "metadata": {},
   "source": [
    "$$ \\hat{y} = B_0 + B_1 x_1 + B_2 x_2 + \\dots + B_m x_m $$\n",
    "\n",
    "\n",
    "\n",
    "The coefficient vector **B** in multiple linear regression is given by:\n",
    "\n",
    "$$\n",
    "\\mathbf{B} = \\begin{bmatrix}\n",
    "\\beta_0 \\\\\n",
    "\\beta_1 \\\\\n",
    "\\vdots \\\\\n",
    "\\beta_m\n",
    "\\end{bmatrix}\n",
    "$$\n",
    "\n",
    "where:\n",
    "- $\\beta_0$ represents the intercept coefficient,\n",
    "- $\\beta_1$ represents the coefficient for the first predictor variable,\n",
    "- $\\vdots$ represents the coefficients for the remaining predictor variables,\n",
    "- $\\beta_m$ represents the coefficient for the last predictor variable.\n",
    "\n",
    "Each $\\beta_i$ represents the effect of the corresponding predictor variable on the response variable in the regression model.\n",
    "\n",
    "\n",
    "$\\beta$ is calculated by:\n",
    "$\\beta$ = $$ (X^T \\cdot X)^{-1} \\cdot X^T \\cdot Y $$\n",
    "\n",
    "where:\n",
    "- X represent all input columns with one columns of 1\n",
    "- Y represent target output\n",
    "\n"
   ]
  },
  {
   "cell_type": "code",
   "execution_count": 60,
   "metadata": {},
   "outputs": [],
   "source": [
    "class MultipleLinearRegression:\n",
    "    def __init__(self):\n",
    "        self.coeff_= None\n",
    "        self.intercept_ = None\n",
    "\n",
    "\n",
    "    def fit(self,x,y):\n",
    "        x_ = np.insert(x,0,1,axis=1)\n",
    "        betas = np.linalg.inv(np.dot(x_.T,x_)).dot(x_.T).dot(y)\n",
    "        self.intercept_ = betas[0]\n",
    "        self.coeff_ = betas[1:]\n",
    "        print(betas)\n",
    "\n",
    "\n",
    "\n",
    "    def predict(self,x):\n",
    "        return ( np.dot(x,self.coeff_) +  self.intercept_ )\n"
   ]
  },
  {
   "cell_type": "code",
   "execution_count": 61,
   "metadata": {},
   "outputs": [],
   "source": [
    "mlr  = MultipleLinearRegression()"
   ]
  },
  {
   "cell_type": "code",
   "execution_count": 63,
   "metadata": {},
   "outputs": [
    {
     "name": "stdout",
     "output_type": "stream",
     "text": [
      "[  154.7290065    -48.02846228  -224.65536334   554.61628748\n",
      "   360.27084995 -1085.53343      772.19682316   149.1631924\n",
      "    85.46051108   866.52891424    21.12842707]\n"
     ]
    }
   ],
   "source": [
    "mlr.fit(x_train,y_train)"
   ]
  },
  {
   "cell_type": "code",
   "execution_count": 65,
   "metadata": {},
   "outputs": [],
   "source": [
    "y_pred=mlr.predict(x_test)"
   ]
  },
  {
   "cell_type": "code",
   "execution_count": 66,
   "metadata": {},
   "outputs": [],
   "source": [
    "from sklearn.metrics import r2_score"
   ]
  },
  {
   "cell_type": "code",
   "execution_count": 67,
   "metadata": {},
   "outputs": [
    {
     "data": {
      "text/plain": [
       "0.4427388186629707"
      ]
     },
     "execution_count": 67,
     "metadata": {},
     "output_type": "execute_result"
    }
   ],
   "source": [
    "r2_score(y_test,y_pred)"
   ]
  }
 ],
 "metadata": {
  "kernelspec": {
   "display_name": "Python 3",
   "language": "python",
   "name": "python3"
  },
  "language_info": {
   "codemirror_mode": {
    "name": "ipython",
    "version": 3
   },
   "file_extension": ".py",
   "mimetype": "text/x-python",
   "name": "python",
   "nbconvert_exporter": "python",
   "pygments_lexer": "ipython3",
   "version": "3.11.4"
  },
  "orig_nbformat": 4
 },
 "nbformat": 4,
 "nbformat_minor": 2
}
